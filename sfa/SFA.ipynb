{
 "cells": [
  {
   "cell_type": "markdown",
   "metadata": {},
   "source": [
    "# STOCHASTIC FRONTIER ANALYSIS OF REGIONAL COMPETITIVENESS\n",
    "According to the OECD, a competitive region is one that can attract and maintain successful firms and maintain or increase standards of living for the region’s inhabitants. Skilled labour and investment gravitate away from “uncompetitive” regions towards more competitive ones. \n",
    "\n",
    "The extension of the competitiveness concept to the regional level is recent but is having a major influence on the direction of regional development policy. The increasing importance of competitiveness issues may be explained by the deeper economic integration and increased globalization, which require a constant increase in the competitive power of every economic entity belonging to a certain country.\n",
    "\n",
    "In this project, we will use stochastic frontier analysis (SFA) to measure the regional competitiveness of federal subjects in the Central Federal District of Russia in the spirit of \"Stochastic frontier analysis of regional competitiveness\" by Furková and Surmanová (2011).\n",
    "\n",
    "The frontier production technology can be estimated by many different models that are all nested in the general specification: \n",
    "\n",
    "$$ lny_{kt} = lnf(x_{kt}, t, k) − u_{kt} + v_{kt},$$\n",
    "\n",
    "where y is output, x is a set of inputs, the subscript k = 1, . . . ,K indicates the region and the subscript t = 1, . . . , T indicates the time period.\n",
    "\n",
    "We assume the same frontier for all regions, i.e. $f(x_{kt}, t, k) = f(x_{kt}, t)$ $\\forall$ $k, t$, but we will apply different specifications for $u_{kt}$. As for $f$, we will use the Cobb–Douglas production function.\n",
    "\n",
    "Our data is a balanced panel data set of 18 regions observed over a period from 2004 to 2015, which includes 216 observations in total. The output is measured by gross regional product (GRP), and for the inputs we will use three variables:\n",
    "1. ER - employment rate (in %);\n",
    "2. INV - investments in fixed assets (in % of GRP);\n",
    "3. INC - income (in % of GRP).\n",
    "\n",
    "All data was taken from Rosstat and was adjusted for inflation where necessary."
   ]
  },
  {
   "cell_type": "code",
   "execution_count": 4,
   "metadata": {},
   "outputs": [],
   "source": [
    "library(hrbrthemes)\n",
    "library(ggplot2)\n",
    "library(tidyverse)\n",
    "options(warn = -1)\n",
    "library(readxl)\n",
    "library(stargazer)\n",
    "library(IRdisplay)\n",
    "library(plm)\n",
    "library(frontier)\n",
    "library(broom)\n",
    "library(reshape2)\n",
    "library(texreg)\n",
    "theme_set(theme_ipsum_rc())\n",
    "oldw <- getOption(\"warn\")\n",
    "options(repr.plot.width  = 14,\n",
    "        repr.plot.height = 6)"
   ]
  },
  {
   "cell_type": "code",
   "execution_count": 5,
   "metadata": {},
   "outputs": [],
   "source": [
    "df = read_excel('data.xlsx')"
   ]
  },
  {
   "cell_type": "code",
   "execution_count": 6,
   "metadata": {},
   "outputs": [
    {
     "name": "stdout",
     "output_type": "stream",
     "text": [
      "# A tibble: 216 x 7\n",
      "   ID               TIME TIMED     GDP   INV    ER    INC\n",
      "   <chr>           <dbl> <dbl>   <dbl> <dbl> <dbl>  <dbl>\n",
      " 1 Belgorod oblast  2004     1 162471.  19.8  59    8741.\n",
      " 2 Belgorod oblast  2005     2 172700.  24.2  57.5  9500.\n",
      " 3 Belgorod oblast  2006     3 184817.  28.8  60.6 11074.\n",
      " 4 Belgorod oblast  2007     4 214622.  34.6  59.2 12912.\n",
      " 5 Belgorod oblast  2008     5 242883.  32.8  61.3 14848.\n",
      " 6 Belgorod oblast  2009     6 227285.  24    62.9 16154.\n",
      " 7 Belgorod oblast  2010     7 260016.  24.2  61.6 16993 \n",
      " 8 Belgorod oblast  2011     8 285565.  24.8  61.4 16219.\n",
      " 9 Belgorod oblast  2012     9 280413.  25.1  63.7 17129.\n",
      "10 Belgorod oblast  2013    10 276754.  22.7  65.4 17808.\n",
      "# ... with 206 more rows\n"
     ]
    }
   ],
   "source": [
    "print(df)"
   ]
  },
  {
   "cell_type": "code",
   "execution_count": 7,
   "metadata": {},
   "outputs": [
    {
     "data": {
      "text/html": [
       "<table style=\"text-align:center\"><tr><td colspan=\"8\" style=\"border-bottom: 1px solid black\"></td></tr><tr><td style=\"text-align:left\">Statistic</td><td>N</td><td>Mean</td><td>St. Dev.</td><td>Min</td><td>Pctl(25)</td><td>Pctl(75)</td><td>Max</td></tr><tr><td colspan=\"8\" style=\"border-bottom: 1px solid black\"></td></tr><tr><td style=\"text-align:left\">TIMED</td><td>216</td><td>6.500</td><td>3.460</td><td>1</td><td>3.8</td><td>9.2</td><td>12</td></tr><tr><td style=\"text-align:left\">GDP</td><td>216</td><td>196,298.800</td><td>138,979.300</td><td>72,095.240</td><td>131,450.700</td><td>199,640.500</td><td>855,125.000</td></tr><tr><td style=\"text-align:left\">INV</td><td>216</td><td>25.002</td><td>6.952</td><td>8.600</td><td>20.675</td><td>28.725</td><td>44.100</td></tr><tr><td style=\"text-align:left\">ER</td><td>216</td><td>63.347</td><td>3.515</td><td>53</td><td>61.0</td><td>65.8</td><td>74</td></tr><tr><td style=\"text-align:left\">INC</td><td>216</td><td>14,997.320</td><td>7,349.449</td><td>6,133.256</td><td>11,173.370</td><td>15,621.390</td><td>45,768.210</td></tr><tr><td colspan=\"8\" style=\"border-bottom: 1px solid black\"></td></tr></table>"
      ]
     },
     "metadata": {},
     "output_type": "display_data"
    }
   ],
   "source": [
    "df_summary = display_html(\n",
    "    paste(\n",
    "        invisible(\n",
    "            capture.output(\n",
    "                stargazer(as.data.frame(df[,-c(1,2)]), type='html'))),\n",
    "        collapse=\"\"))\n"
   ]
  },
  {
   "cell_type": "code",
   "execution_count": 8,
   "metadata": {},
   "outputs": [
    {
     "data": {
      "text/plain": [
       "               ID           TIME          TIMED          GDP        \n",
       " Belgorod oblast: 12   Min.   :2004   1      : 18   Min.   : 72095  \n",
       " Bryansk oblast : 12   1st Qu.:2007   2      : 18   1st Qu.:131451  \n",
       " Ivanovo oblast : 12   Median :2010   3      : 18   Median :160965  \n",
       " Kaluga oblast  : 12   Mean   :2010   4      : 18   Mean   :196299  \n",
       " Kostroma oblast: 12   3rd Qu.:2012   5      : 18   3rd Qu.:199641  \n",
       " Kursk oblast   : 12   Max.   :2015   6      : 18   Max.   :855125  \n",
       " (Other)        :144                  (Other):108                   \n",
       "      INV              ER             INC       \n",
       " Min.   : 8.60   Min.   :52.80   Min.   : 6133  \n",
       " 1st Qu.:20.68   1st Qu.:60.98   1st Qu.:11173  \n",
       " Median :24.80   Median :63.25   Median :13680  \n",
       " Mean   :25.00   Mean   :63.35   Mean   :14997  \n",
       " 3rd Qu.:28.73   3rd Qu.:65.83   3rd Qu.:15621  \n",
       " Max.   :44.10   Max.   :74.00   Max.   :45768  \n",
       "                                                "
      ]
     },
     "metadata": {},
     "output_type": "display_data"
    }
   ],
   "source": [
    "df_panel = pdata.frame(df, c('ID', 'TIMED'))\n",
    "summary(df_panel)"
   ]
  },
  {
   "cell_type": "code",
   "execution_count": 9,
   "metadata": {},
   "outputs": [
    {
     "data": {
      "text/html": [
       "0"
      ],
      "text/latex": [
       "0"
      ],
      "text/markdown": [
       "0"
      ],
      "text/plain": [
       "[1] 0"
      ]
     },
     "metadata": {},
     "output_type": "display_data"
    }
   ],
   "source": [
    "df_panel$TIME_ADJ = df_panel$TIME- mean(df_panel$TIME)\n",
    "mean(df_panel$TIME_ADJ )"
   ]
  },
  {
   "cell_type": "markdown",
   "metadata": {},
   "source": [
    "### Time-invariant efficiencies"
   ]
  },
  {
   "cell_type": "markdown",
   "metadata": {},
   "source": [
    "We start the investigation of regional competitiveness assuming time-invariant individual efficiencies, i.e., $u_{kt} = u_k$ $\\forall$ $k, t$, meaning that each region has an individual fixed efficiency that remains constant over time. First, we estimate the model without technological change."
   ]
  },
  {
   "cell_type": "code",
   "execution_count": 10,
   "metadata": {
    "scrolled": false
   },
   "outputs": [
    {
     "data": {
      "text/plain": [
       "Error Components Frontier (see Battese & Coelli 1992)\n",
       "Inefficiency decreases the endogenous variable (as in a production function)\n",
       "The dependent variable is logged\n",
       "Iterative ML estimation terminated after 26 iterations:\n",
       "log likelihood values and parameters of two successive iterations\n",
       "are within the tolerance limit\n",
       "\n",
       "final maximum likelihood estimates\n",
       "              Estimate Std. Error  z value  Pr(>|z|)    \n",
       "(Intercept)  4.2057844  0.7071842   5.9472 2.727e-09 ***\n",
       "log(ER)      0.6830711  0.1966849   3.4729 0.0005148 ***\n",
       "log(INV)    -0.0015101  0.0265074  -0.0570 0.9545698    \n",
       "log(INC)     0.6021309  0.0326723  18.4294 < 2.2e-16 ***\n",
       "sigmaSq      0.5800077  0.2045320   2.8358 0.0045714 ** \n",
       "gamma        0.9889079  0.0041476 238.4305 < 2.2e-16 ***\n",
       "---\n",
       "Signif. codes:  0 '***' 0.001 '**' 0.01 '*' 0.05 '.' 0.1 ' ' 1\n",
       "log likelihood value: 187.6895 \n",
       "\n",
       "panel data\n",
       "number of cross-sections = 18 \n",
       "number of time periods = 12 \n",
       "total number of observations = 216 \n",
       "thus there are 0 observations not in the panel\n",
       "\n",
       "mean efficiency: 0.5018428 "
      ]
     },
     "metadata": {},
     "output_type": "display_data"
    }
   ],
   "source": [
    " # Model 1\n",
    "time_inv_no_change  <-  sfa(log(GDP) ~ log(ER) + log(INV) + log(INC) , data=df_panel)\n",
    "summary(time_inv_no_change)\n"
   ]
  },
  {
   "cell_type": "markdown",
   "metadata": {},
   "source": [
    "As in Furková and Surmanová the elasticity of investments is negative, though in our first model it's not statistically significant. "
   ]
  },
  {
   "cell_type": "code",
   "execution_count": 42,
   "metadata": {},
   "outputs": [
    {
     "data": {
      "text/html": [
       "<table>\n",
       "<thead><tr><th scope=col>#Df</th><th scope=col>LogLik</th><th scope=col>Df</th><th scope=col>Chisq</th><th scope=col>Pr(&gt;Chisq)</th></tr></thead>\n",
       "<tbody>\n",
       "\t<tr><td>5           </td><td> 58.60167   </td><td>NA          </td><td>      NA    </td><td>          NA</td></tr>\n",
       "\t<tr><td>6           </td><td>187.68946   </td><td> 1          </td><td>258.1756    </td><td>2.143736e-58</td></tr>\n",
       "</tbody>\n",
       "</table>\n"
      ],
      "text/latex": [
       "\\begin{tabular}{r|lllll}\n",
       " \\#Df & LogLik & Df & Chisq & Pr(>Chisq)\\\\\n",
       "\\hline\n",
       "\t 5            &  58.60167    & NA           &       NA     &           NA\\\\\n",
       "\t 6            & 187.68946    &  1           & 258.1756     & 2.143736e-58\\\\\n",
       "\\end{tabular}\n"
      ],
      "text/markdown": [
       "\n",
       "| #Df | LogLik | Df | Chisq | Pr(>Chisq) |\n",
       "|---|---|---|---|---|\n",
       "| 5            |  58.60167    | NA           |       NA     |           NA |\n",
       "| 6            | 187.68946    |  1           | 258.1756     | 2.143736e-58 |\n",
       "\n"
      ],
      "text/plain": [
       "  #Df LogLik    Df Chisq    Pr(>Chisq)  \n",
       "1 5    58.60167 NA       NA           NA\n",
       "2 6   187.68946  1 258.1756 2.143736e-58"
      ]
     },
     "metadata": {},
     "output_type": "display_data"
    }
   ],
   "source": [
    "lrtest(time_inv_no_change)"
   ]
  },
  {
   "cell_type": "markdown",
   "metadata": {},
   "source": [
    "The likelihood ratio test shows that the OLS model is strongly rejected in favor of the corresponding stochastic frontier model."
   ]
  },
  {
   "cell_type": "markdown",
   "metadata": {},
   "source": [
    "So far we have assumed that the inefficiency term u follows a positive half-normal distribution, i.e. $u \\sim N^+(\\mu, \\sigma^2_u)$, where $\\mu = 0$. Another assumption we can make in SFA is that $\\mu \\neq 0$, meaning that u follows a positive truncated normal distribution.\n"
   ]
  },
  {
   "cell_type": "code",
   "execution_count": 37,
   "metadata": {},
   "outputs": [
    {
     "data": {
      "text/plain": [
       "Error Components Frontier (see Battese & Coelli 1992)\n",
       "Inefficiency decreases the endogenous variable (as in a production function)\n",
       "The dependent variable is logged\n",
       "Iterative ML estimation terminated after 10 iterations:\n",
       "cannot find a parameter vector that results in a log-likelihood value\n",
       "larger than the log-likelihood value obtained in the previous step\n",
       "\n",
       "final maximum likelihood estimates\n",
       "             Estimate Std. Error z value  Pr(>|z|)    \n",
       "(Intercept)  3.605423   1.028493  3.5055 0.0004557 ***\n",
       "log(ER)      0.654440   0.276513  2.3668 0.0179445 *  \n",
       "log(INV)    -0.075095   0.030764 -2.4410 0.0146468 *  \n",
       "log(INC)     0.683242   0.030566 22.3529 < 2.2e-16 ***\n",
       "sigmaSq      0.050262   0.010455  4.8075 1.529e-06 ***\n",
       "gamma        0.851423   0.025718 33.1066 < 2.2e-16 ***\n",
       "mu           0.413735   0.077559  5.3344 9.585e-08 ***\n",
       "---\n",
       "Signif. codes:  0 '***' 0.001 '**' 0.01 '*' 0.05 '.' 0.1 ' ' 1\n",
       "log likelihood value: 185.1785 \n",
       "\n",
       "panel data\n",
       "number of cross-sections = 18 \n",
       "number of time periods = 12 \n",
       "total number of observations = 216 \n",
       "thus there are 0 observations not in the panel\n",
       "\n",
       "mean efficiency: 0.595096 "
      ]
     },
     "metadata": {},
     "output_type": "display_data"
    }
   ],
   "source": [
    " # Model 2\n",
    "time_inv_no_change_tn  <-  sfa(log(GDP) ~ log(ER) + log(INV) + log(INC), truncNorm = TRUE, data=df_panel)\n",
    "summary(time_inv_no_change_tn)"
   ]
  },
  {
   "cell_type": "code",
   "execution_count": 43,
   "metadata": {},
   "outputs": [
    {
     "data": {
      "text/html": [
       "<table>\n",
       "<thead><tr><th scope=col>#Df</th><th scope=col>LogLik</th><th scope=col>Df</th><th scope=col>Chisq</th><th scope=col>Pr(&gt;Chisq)</th></tr></thead>\n",
       "<tbody>\n",
       "\t<tr><td>7         </td><td>185.1785  </td><td>NA        </td><td>      NA  </td><td>        NA</td></tr>\n",
       "\t<tr><td>6         </td><td>187.6895  </td><td>-1        </td><td>5.021845  </td><td>0.02502948</td></tr>\n",
       "</tbody>\n",
       "</table>\n"
      ],
      "text/latex": [
       "\\begin{tabular}{r|lllll}\n",
       " \\#Df & LogLik & Df & Chisq & Pr(>Chisq)\\\\\n",
       "\\hline\n",
       "\t 7          & 185.1785   & NA         &       NA   &         NA\\\\\n",
       "\t 6          & 187.6895   & -1         & 5.021845   & 0.02502948\\\\\n",
       "\\end{tabular}\n"
      ],
      "text/markdown": [
       "\n",
       "| #Df | LogLik | Df | Chisq | Pr(>Chisq) |\n",
       "|---|---|---|---|---|\n",
       "| 7          | 185.1785   | NA         |       NA   |         NA |\n",
       "| 6          | 187.6895   | -1         | 5.021845   | 0.02502948 |\n",
       "\n"
      ],
      "text/plain": [
       "  #Df LogLik   Df Chisq    Pr(>Chisq)\n",
       "1 7   185.1785 NA       NA         NA\n",
       "2 6   187.6895 -1 5.021845 0.02502948"
      ]
     },
     "metadata": {},
     "output_type": "display_data"
    }
   ],
   "source": [
    "lrtest(time_inv_no_change_tn, time_inv_no_change)"
   ]
  },
  {
   "cell_type": "markdown",
   "metadata": {},
   "source": [
    "The investments coefficient is statistically significant at the 5% level, but the likelihood ratio test favours the model where u follows a positive half-normal distribution. In what follows, we will only use the latter assumption."
   ]
  },
  {
   "cell_type": "markdown",
   "metadata": {},
   "source": [
    "Now, we will add a time trend variable to our model to account for the technological change."
   ]
  },
  {
   "cell_type": "code",
   "execution_count": 38,
   "metadata": {},
   "outputs": [
    {
     "data": {
      "text/plain": [
       "Error Components Frontier (see Battese & Coelli 1992)\n",
       "Inefficiency decreases the endogenous variable (as in a production function)\n",
       "The dependent variable is logged\n",
       "Iterative ML estimation terminated after 35 iterations:\n",
       "cannot find a parameter vector that results in a log-likelihood value\n",
       "larger than the log-likelihood value obtained in the previous step\n",
       "\n",
       "final maximum likelihood estimates\n",
       "             Estimate Std. Error  z value  Pr(>|z|)    \n",
       "(Intercept) 6.2055441  1.1874433   5.2260 1.732e-07 ***\n",
       "log(ER)     0.4578596  0.2212112   2.0698  0.038472 *  \n",
       "log(INV)    0.0153537  0.0285254   0.5382  0.590405    \n",
       "log(INC)    0.5006629  0.0593914   8.4299 < 2.2e-16 ***\n",
       "TIME_ADJ    0.0077347  0.0038845   1.9912  0.046461 *  \n",
       "sigmaSq     0.8383148  0.3233953   2.5922  0.009536 ** \n",
       "gamma       0.9927031  0.0029876 332.2729 < 2.2e-16 ***\n",
       "---\n",
       "Signif. codes:  0 '***' 0.001 '**' 0.01 '*' 0.05 '.' 0.1 ' ' 1\n",
       "log likelihood value: 189.4071 \n",
       "\n",
       "panel data\n",
       "number of cross-sections = 18 \n",
       "number of time periods = 12 \n",
       "total number of observations = 216 \n",
       "thus there are 0 observations not in the panel\n",
       "\n",
       "mean efficiency: 0.4361122 "
      ]
     },
     "metadata": {},
     "output_type": "display_data"
    }
   ],
   "source": [
    " # Model 3\n",
    "time_inv  <-  sfa(log(GDP) ~ log(ER) + log(INV) + log(INC) + TIME_ADJ, data=df_panel)\n",
    "summary(time_inv)"
   ]
  },
  {
   "cell_type": "code",
   "execution_count": 18,
   "metadata": {},
   "outputs": [
    {
     "data": {
      "text/html": [
       "<table>\n",
       "<thead><tr><th scope=col>#Df</th><th scope=col>LogLik</th><th scope=col>Df</th><th scope=col>Chisq</th><th scope=col>Pr(&gt;Chisq)</th></tr></thead>\n",
       "<tbody>\n",
       "\t<tr><td>6         </td><td>187.6895  </td><td>NA        </td><td>      NA  </td><td>        NA</td></tr>\n",
       "\t<tr><td>7         </td><td>189.4071  </td><td> 1        </td><td>3.435359  </td><td>0.06381472</td></tr>\n",
       "</tbody>\n",
       "</table>\n"
      ],
      "text/latex": [
       "\\begin{tabular}{r|lllll}\n",
       " \\#Df & LogLik & Df & Chisq & Pr(>Chisq)\\\\\n",
       "\\hline\n",
       "\t 6          & 187.6895   & NA         &       NA   &         NA\\\\\n",
       "\t 7          & 189.4071   &  1         & 3.435359   & 0.06381472\\\\\n",
       "\\end{tabular}\n"
      ],
      "text/markdown": [
       "\n",
       "| #Df | LogLik | Df | Chisq | Pr(>Chisq) |\n",
       "|---|---|---|---|---|\n",
       "| 6          | 187.6895   | NA         |       NA   |         NA |\n",
       "| 7          | 189.4071   |  1         | 3.435359   | 0.06381472 |\n",
       "\n"
      ],
      "text/plain": [
       "  #Df LogLik   Df Chisq    Pr(>Chisq)\n",
       "1 6   187.6895 NA       NA         NA\n",
       "2 7   189.4071  1 3.435359 0.06381472"
      ]
     },
     "metadata": {},
     "output_type": "display_data"
    }
   ],
   "source": [
    "lrtest(time_inv_no_change, time_inv)"
   ]
  },
  {
   "cell_type": "markdown",
   "metadata": {},
   "source": [
    "The time trend is statistically significant at the 5% level, but with the likelihood ratio test we can’t reject \n",
    "the hypothesis that there is no technological change."
   ]
  },
  {
   "cell_type": "markdown",
   "metadata": {},
   "source": [
    "## Time-variant efficiencies"
   ]
  },
  {
   "cell_type": "markdown",
   "metadata": {},
   "source": [
    "Next, we estimate the Cobb-Douglas production frontier with time-variant individual efficiencies, with $u_{kt} = u_{k}exp(−\\eta(t − T))$  $\\forall k, t$, which means that each region has an individual efficiency and the inefficiency terms $u_{kt}$ of all regions can change over time as indicated by the additional coefficient $\\eta$. This function does not allow a change in the rank ordering of units over time, the unit that is ranked n-th at the first period is always ranked n-th."
   ]
  },
  {
   "cell_type": "code",
   "execution_count": 39,
   "metadata": {},
   "outputs": [
    {
     "data": {
      "text/plain": [
       "Error Components Frontier (see Battese & Coelli 1992)\n",
       "Inefficiency decreases the endogenous variable (as in a production function)\n",
       "The dependent variable is logged\n",
       "Iterative ML estimation terminated after 32 iterations:\n",
       "cannot find a parameter vector that results in a log-likelihood value\n",
       "larger than the log-likelihood value obtained in the previous step\n",
       "\n",
       "final maximum likelihood estimates\n",
       "             Estimate Std. Error  z value  Pr(>|z|)    \n",
       "(Intercept) 6.6535515  1.1738043   5.6684 1.442e-08 ***\n",
       "log(ER)     0.4730398  0.2103497   2.2488  0.024524 *  \n",
       "log(INV)    0.0168783  0.0277993   0.6072  0.543751    \n",
       "log(INC)    0.4522215  0.0673814   6.7114 1.928e-11 ***\n",
       "sigmaSq     0.8351784  0.3103799   2.6908  0.007128 ** \n",
       "gamma       0.9928351  0.0028416 349.3980 < 2.2e-16 ***\n",
       "time        0.0108887  0.0035067   3.1051  0.001902 ** \n",
       "---\n",
       "Signif. codes:  0 '***' 0.001 '**' 0.01 '*' 0.05 '.' 0.1 ' ' 1\n",
       "log likelihood value: 190.5478 \n",
       "\n",
       "panel data\n",
       "number of cross-sections = 18 \n",
       "number of time periods = 12 \n",
       "total number of observations = 216 \n",
       "thus there are 0 observations not in the panel\n",
       "\n",
       "mean efficiency of each year\n",
       "        1         2         3         4         5         6         7         8 \n",
       "0.3949795 0.3987074 0.4024362 0.4061655 0.4098949 0.4136240 0.4173523 0.4210794 \n",
       "        9        10        11        12 \n",
       "0.4248050 0.4285285 0.4322497 0.4359681 \n",
       "\n",
       "mean efficiency: 0.4154825 "
      ]
     },
     "metadata": {},
     "output_type": "display_data"
    }
   ],
   "source": [
    " # Model 4\n",
    "time_var_no_change = sfa(log(GDP) ~ log(ER) + log(INV) + log(INC), data=df_panel, timeEffect = TRUE)\n",
    "summary(time_var_no_change)"
   ]
  },
  {
   "cell_type": "code",
   "execution_count": 20,
   "metadata": {},
   "outputs": [
    {
     "data": {
      "text/html": [
       "<table>\n",
       "<thead><tr><th scope=col>#Df</th><th scope=col>LogLik</th><th scope=col>Df</th><th scope=col>Chisq</th><th scope=col>Pr(&gt;Chisq)</th></tr></thead>\n",
       "<tbody>\n",
       "\t<tr><td>6         </td><td>187.6895  </td><td>NA        </td><td>      NA  </td><td>        NA</td></tr>\n",
       "\t<tr><td>7         </td><td>190.5478  </td><td> 1        </td><td>5.716581  </td><td>0.01680543</td></tr>\n",
       "</tbody>\n",
       "</table>\n"
      ],
      "text/latex": [
       "\\begin{tabular}{r|lllll}\n",
       " \\#Df & LogLik & Df & Chisq & Pr(>Chisq)\\\\\n",
       "\\hline\n",
       "\t 6          & 187.6895   & NA         &       NA   &         NA\\\\\n",
       "\t 7          & 190.5478   &  1         & 5.716581   & 0.01680543\\\\\n",
       "\\end{tabular}\n"
      ],
      "text/markdown": [
       "\n",
       "| #Df | LogLik | Df | Chisq | Pr(>Chisq) |\n",
       "|---|---|---|---|---|\n",
       "| 6          | 187.6895   | NA         |       NA   |         NA |\n",
       "| 7          | 190.5478   |  1         | 5.716581   | 0.01680543 |\n",
       "\n"
      ],
      "text/plain": [
       "  #Df LogLik   Df Chisq    Pr(>Chisq)\n",
       "1 6   187.6895 NA       NA         NA\n",
       "2 7   190.5478  1 5.716581 0.01680543"
      ]
     },
     "metadata": {},
     "output_type": "display_data"
    }
   ],
   "source": [
    "lrtest(time_inv_no_change, time_var_no_change)"
   ]
  },
  {
   "cell_type": "markdown",
   "metadata": {},
   "source": [
    "In this specification, all the coefficients, except the coefficient of investments, are statistically significant at the 5% level. A positive sign of the coefficients $\\eta$ (named time) indicates that efficiency is increasing over time."
   ]
  },
  {
   "cell_type": "markdown",
   "metadata": {},
   "source": [
    "Finally, we estimate the same model with the technological change."
   ]
  },
  {
   "cell_type": "code",
   "execution_count": 40,
   "metadata": {},
   "outputs": [
    {
     "data": {
      "text/plain": [
       "Error Components Frontier (see Battese & Coelli 1992)\n",
       "Inefficiency decreases the endogenous variable (as in a production function)\n",
       "The dependent variable is logged\n",
       "Iterative ML estimation terminated after 41 iterations:\n",
       "log likelihood values and parameters of two successive iterations\n",
       "are within the tolerance limit\n",
       "\n",
       "final maximum likelihood estimates\n",
       "             Estimate Std. Error  z value  Pr(>|z|)    \n",
       "(Intercept) 6.7871392  1.2192017   5.5669 2.594e-08 ***\n",
       "log(ER)     0.4491382  0.2289343   1.9619  0.049778 *  \n",
       "log(INV)    0.0181523  0.0274032   0.6624  0.507703    \n",
       "log(INC)    0.4489011  0.0638000   7.0361 1.977e-12 ***\n",
       "TIME_ADJ    0.0017087  0.0050233   0.3401  0.733746    \n",
       "sigmaSq     0.8609696  0.3139490   2.7424  0.006099 ** \n",
       "gamma       0.9930624  0.0027319 363.5056 < 2.2e-16 ***\n",
       "time        0.0094542  0.0054555   1.7330  0.083103 .  \n",
       "---\n",
       "Signif. codes:  0 '***' 0.001 '**' 0.01 '*' 0.05 '.' 0.1 ' ' 1\n",
       "log likelihood value: 190.5957 \n",
       "\n",
       "panel data\n",
       "number of cross-sections = 18 \n",
       "number of time periods = 12 \n",
       "total number of observations = 216 \n",
       "thus there are 0 observations not in the panel\n",
       "\n",
       "mean efficiency of each year\n",
       "        1         2         3         4         5         6         7         8 \n",
       "0.3950582 0.3982952 0.4015330 0.4047712 0.4080096 0.4112479 0.4144859 0.4177232 \n",
       "        9        10        11        12 \n",
       "0.4209596 0.4241948 0.4274285 0.4306605 \n",
       "\n",
       "mean efficiency: 0.412864 "
      ]
     },
     "metadata": {},
     "output_type": "display_data"
    }
   ],
   "source": [
    " # Model 5\n",
    "time_var = sfa(log(GDP) ~ log(ER) + log(INV) + log(INC) + TIME_ADJ, data=df_panel, timeEffect = TRUE)\n",
    "summary(time_var)"
   ]
  },
  {
   "cell_type": "code",
   "execution_count": 22,
   "metadata": {},
   "outputs": [
    {
     "data": {
      "text/html": [
       "<table>\n",
       "<thead><tr><th scope=col>#Df</th><th scope=col>LogLik</th><th scope=col>Df</th><th scope=col>Chisq</th><th scope=col>Pr(&gt;Chisq)</th></tr></thead>\n",
       "<tbody>\n",
       "\t<tr><td>8         </td><td>190.5957  </td><td>NA        </td><td>        NA</td><td>       NA </td></tr>\n",
       "\t<tr><td>7         </td><td>190.5478  </td><td>-1        </td><td>0.09597083</td><td>0.7567195 </td></tr>\n",
       "</tbody>\n",
       "</table>\n"
      ],
      "text/latex": [
       "\\begin{tabular}{r|lllll}\n",
       " \\#Df & LogLik & Df & Chisq & Pr(>Chisq)\\\\\n",
       "\\hline\n",
       "\t 8          & 190.5957   & NA         &         NA &        NA \\\\\n",
       "\t 7          & 190.5478   & -1         & 0.09597083 & 0.7567195 \\\\\n",
       "\\end{tabular}\n"
      ],
      "text/markdown": [
       "\n",
       "| #Df | LogLik | Df | Chisq | Pr(>Chisq) |\n",
       "|---|---|---|---|---|\n",
       "| 8          | 190.5957   | NA         |         NA |        NA  |\n",
       "| 7          | 190.5478   | -1         | 0.09597083 | 0.7567195  |\n",
       "\n"
      ],
      "text/plain": [
       "  #Df LogLik   Df Chisq      Pr(>Chisq)\n",
       "1 8   190.5957 NA         NA        NA \n",
       "2 7   190.5478 -1 0.09597083 0.7567195 "
      ]
     },
     "metadata": {},
     "output_type": "display_data"
    }
   ],
   "source": [
    "lrtest(time_var, time_var_no_change)"
   ]
  },
  {
   "cell_type": "markdown",
   "metadata": {},
   "source": [
    "The time trend is statistically insignificant, and the the corresponding likelihood ratio test indicates that the effect of time on the efficiencies is insignificant."
   ]
  },
  {
   "cell_type": "markdown",
   "metadata": {},
   "source": [
    "Let's look at the resulting efficiencies from Model 4."
   ]
  },
  {
   "cell_type": "code",
   "execution_count": 41,
   "metadata": {},
   "outputs": [
    {
     "data": {
      "text/html": [
       "<table>\n",
       "<thead><tr><th></th><th scope=col>2004</th><th scope=col>2005</th><th scope=col>2006</th><th scope=col>2007</th><th scope=col>2008</th><th scope=col>2009</th><th scope=col>2010</th><th scope=col>2011</th><th scope=col>2012</th><th scope=col>2013</th><th scope=col>2014</th><th scope=col>2015</th></tr></thead>\n",
       "<tbody>\n",
       "\t<tr><th scope=row>Moscow</th><td>0.9734184</td><td>0.9737008</td><td>0.9739803</td><td>0.9742569</td><td>0.9745305</td><td>0.9748014</td><td>0.9750694</td><td>0.9753346</td><td>0.9755970</td><td>0.9758567</td><td>0.9761137</td><td>0.9763680</td></tr>\n",
       "\t<tr><th scope=row>Belgorod oblast</th><td>0.5169623</td><td>0.5206678</td><td>0.5243593</td><td>0.5280366</td><td>0.5316995</td><td>0.5353478</td><td>0.5389812</td><td>0.5425996</td><td>0.5462027</td><td>0.5497903</td><td>0.5533623</td><td>0.5569185</td></tr>\n",
       "\t<tr><th scope=row>Lipetsk oblast</th><td>0.4992584</td><td>0.5030268</td><td>0.5067824</td><td>0.5105249</td><td>0.5142542</td><td>0.5179698</td><td>0.5216717</td><td>0.5253595</td><td>0.5290331</td><td>0.5326922</td><td>0.5363366</td><td>0.5399661</td></tr>\n",
       "\t<tr><th scope=row>Moscow Oblast</th><td>0.4354000</td><td>0.4393371</td><td>0.4432666</td><td>0.4471881</td><td>0.4511013</td><td>0.4550058</td><td>0.4589014</td><td>0.4627876</td><td>0.4666641</td><td>0.4705306</td><td>0.4743867</td><td>0.4782322</td></tr>\n",
       "\t<tr><th scope=row>Yaroslavl oblast</th><td>0.4189594</td><td>0.4229241</td><td>0.4268827</td><td>0.4308350</td><td>0.4347805</td><td>0.4387188</td><td>0.4426496</td><td>0.4465725</td><td>0.4504872</td><td>0.4543932</td><td>0.4582903</td><td>0.4621781</td></tr>\n",
       "\t<tr><th scope=row>Kaluga oblast</th><td>0.3704010</td><td>0.3744053</td><td>0.3784088</td><td>0.3824111</td><td>0.3864118</td><td>0.3904103</td><td>0.3944062</td><td>0.3983992</td><td>0.4023886</td><td>0.4063742</td><td>0.4103555</td><td>0.4143321</td></tr>\n",
       "\t<tr><th scope=row>Kursk oblast</th><td>0.3678718</td><td>0.3718763</td><td>0.3758804</td><td>0.3798836</td><td>0.3838853</td><td>0.3878853</td><td>0.3918829</td><td>0.3958778</td><td>0.3998695</td><td>0.4038576</td><td>0.4078417</td><td>0.4118213</td></tr>\n",
       "\t<tr><th scope=row>Ryazan oblast</th><td>0.3660839</td><td>0.3700885</td><td>0.3740929</td><td>0.3780965</td><td>0.3820989</td><td>0.3860998</td><td>0.3900985</td><td>0.3940947</td><td>0.3980879</td><td>0.4020777</td><td>0.4060636</td><td>0.4100453</td></tr>\n",
       "\t<tr><th scope=row>Tula oblast</th><td>0.3477912</td><td>0.3517909</td><td>0.3557926</td><td>0.3597958</td><td>0.3637999</td><td>0.3678045</td><td>0.3718092</td><td>0.3758134</td><td>0.3798167</td><td>0.3838186</td><td>0.3878187</td><td>0.3918165</td></tr>\n",
       "\t<tr><th scope=row>Tver oblast</th><td>0.3457381</td><td>0.3497366</td><td>0.3537374</td><td>0.3577399</td><td>0.3617436</td><td>0.3657481</td><td>0.3697528</td><td>0.3737573</td><td>0.3777611</td><td>0.3817638</td><td>0.3857649</td><td>0.3897639</td></tr>\n",
       "\t<tr><th scope=row>Voronezh oblast</th><td>0.3438211</td><td>0.3478184</td><td>0.3518182</td><td>0.3558199</td><td>0.3598231</td><td>0.3638273</td><td>0.3678320</td><td>0.3718367</td><td>0.3758409</td><td>0.3798442</td><td>0.3838461</td><td>0.3878462</td></tr>\n",
       "\t<tr><th scope=row>Vladimir oblast</th><td>0.3351803</td><td>0.3391706</td><td>0.3431645</td><td>0.3471614</td><td>0.3511609</td><td>0.3551623</td><td>0.3591654</td><td>0.3631695</td><td>0.3671741</td><td>0.3711789</td><td>0.3751833</td><td>0.3791868</td></tr>\n",
       "\t<tr><th scope=row>Oryol Oblast</th><td>0.3310916</td><td>0.3350778</td><td>0.3390681</td><td>0.3430619</td><td>0.3470588</td><td>0.3510582</td><td>0.3550597</td><td>0.3590627</td><td>0.3630668</td><td>0.3670715</td><td>0.3710762</td><td>0.3750807</td></tr>\n",
       "\t<tr><th scope=row>Kostroma oblast</th><td>0.3237979</td><td>0.3277753</td><td>0.3317578</td><td>0.3357447</td><td>0.3397357</td><td>0.3437301</td><td>0.3477274</td><td>0.3517273</td><td>0.3557291</td><td>0.3597323</td><td>0.3637366</td><td>0.3677413</td></tr>\n",
       "\t<tr><th scope=row>Smolensk oblast</th><td>0.3206830</td><td>0.3246562</td><td>0.3286348</td><td>0.3326183</td><td>0.3366061</td><td>0.3405979</td><td>0.3445930</td><td>0.3485909</td><td>0.3525913</td><td>0.3565934</td><td>0.3605970</td><td>0.3646014</td></tr>\n",
       "\t<tr><th scope=row>Tambov oblast</th><td>0.3161925</td><td>0.3201589</td><td>0.3241314</td><td>0.3281093</td><td>0.3320922</td><td>0.3360795</td><td>0.3400708</td><td>0.3440655</td><td>0.3480632</td><td>0.3520632</td><td>0.3560652</td><td>0.3600686</td></tr>\n",
       "\t<tr><th scope=row>Bryansk oblast</th><td>0.2622151</td><td>0.2660432</td><td>0.2698848</td><td>0.2737394</td><td>0.2776064</td><td>0.2814853</td><td>0.2853756</td><td>0.2892766</td><td>0.2931879</td><td>0.2971088</td><td>0.3010389</td><td>0.3049776</td></tr>\n",
       "\t<tr><th scope=row>Ivanovo oblast</th><td>0.2347654</td><td>0.2384782</td><td>0.2422085</td><td>0.2459558</td><td>0.2497197</td><td>0.2534994</td><td>0.2572945</td><td>0.2611044</td><td>0.2649285</td><td>0.2687664</td><td>0.2726174</td><td>0.2764810</td></tr>\n",
       "</tbody>\n",
       "</table>\n"
      ],
      "text/latex": [
       "\\begin{tabular}{r|llllllllllll}\n",
       "  & 2004 & 2005 & 2006 & 2007 & 2008 & 2009 & 2010 & 2011 & 2012 & 2013 & 2014 & 2015\\\\\n",
       "\\hline\n",
       "\tMoscow & 0.9734184 & 0.9737008 & 0.9739803 & 0.9742569 & 0.9745305 & 0.9748014 & 0.9750694 & 0.9753346 & 0.9755970 & 0.9758567 & 0.9761137 & 0.9763680\\\\\n",
       "\tBelgorod oblast & 0.5169623 & 0.5206678 & 0.5243593 & 0.5280366 & 0.5316995 & 0.5353478 & 0.5389812 & 0.5425996 & 0.5462027 & 0.5497903 & 0.5533623 & 0.5569185\\\\\n",
       "\tLipetsk oblast & 0.4992584 & 0.5030268 & 0.5067824 & 0.5105249 & 0.5142542 & 0.5179698 & 0.5216717 & 0.5253595 & 0.5290331 & 0.5326922 & 0.5363366 & 0.5399661\\\\\n",
       "\tMoscow Oblast & 0.4354000 & 0.4393371 & 0.4432666 & 0.4471881 & 0.4511013 & 0.4550058 & 0.4589014 & 0.4627876 & 0.4666641 & 0.4705306 & 0.4743867 & 0.4782322\\\\\n",
       "\tYaroslavl oblast & 0.4189594 & 0.4229241 & 0.4268827 & 0.4308350 & 0.4347805 & 0.4387188 & 0.4426496 & 0.4465725 & 0.4504872 & 0.4543932 & 0.4582903 & 0.4621781\\\\\n",
       "\tKaluga oblast & 0.3704010 & 0.3744053 & 0.3784088 & 0.3824111 & 0.3864118 & 0.3904103 & 0.3944062 & 0.3983992 & 0.4023886 & 0.4063742 & 0.4103555 & 0.4143321\\\\\n",
       "\tKursk oblast & 0.3678718 & 0.3718763 & 0.3758804 & 0.3798836 & 0.3838853 & 0.3878853 & 0.3918829 & 0.3958778 & 0.3998695 & 0.4038576 & 0.4078417 & 0.4118213\\\\\n",
       "\tRyazan oblast & 0.3660839 & 0.3700885 & 0.3740929 & 0.3780965 & 0.3820989 & 0.3860998 & 0.3900985 & 0.3940947 & 0.3980879 & 0.4020777 & 0.4060636 & 0.4100453\\\\\n",
       "\tTula oblast & 0.3477912 & 0.3517909 & 0.3557926 & 0.3597958 & 0.3637999 & 0.3678045 & 0.3718092 & 0.3758134 & 0.3798167 & 0.3838186 & 0.3878187 & 0.3918165\\\\\n",
       "\tTver oblast & 0.3457381 & 0.3497366 & 0.3537374 & 0.3577399 & 0.3617436 & 0.3657481 & 0.3697528 & 0.3737573 & 0.3777611 & 0.3817638 & 0.3857649 & 0.3897639\\\\\n",
       "\tVoronezh oblast & 0.3438211 & 0.3478184 & 0.3518182 & 0.3558199 & 0.3598231 & 0.3638273 & 0.3678320 & 0.3718367 & 0.3758409 & 0.3798442 & 0.3838461 & 0.3878462\\\\\n",
       "\tVladimir oblast & 0.3351803 & 0.3391706 & 0.3431645 & 0.3471614 & 0.3511609 & 0.3551623 & 0.3591654 & 0.3631695 & 0.3671741 & 0.3711789 & 0.3751833 & 0.3791868\\\\\n",
       "\tOryol Oblast & 0.3310916 & 0.3350778 & 0.3390681 & 0.3430619 & 0.3470588 & 0.3510582 & 0.3550597 & 0.3590627 & 0.3630668 & 0.3670715 & 0.3710762 & 0.3750807\\\\\n",
       "\tKostroma oblast & 0.3237979 & 0.3277753 & 0.3317578 & 0.3357447 & 0.3397357 & 0.3437301 & 0.3477274 & 0.3517273 & 0.3557291 & 0.3597323 & 0.3637366 & 0.3677413\\\\\n",
       "\tSmolensk oblast & 0.3206830 & 0.3246562 & 0.3286348 & 0.3326183 & 0.3366061 & 0.3405979 & 0.3445930 & 0.3485909 & 0.3525913 & 0.3565934 & 0.3605970 & 0.3646014\\\\\n",
       "\tTambov oblast & 0.3161925 & 0.3201589 & 0.3241314 & 0.3281093 & 0.3320922 & 0.3360795 & 0.3400708 & 0.3440655 & 0.3480632 & 0.3520632 & 0.3560652 & 0.3600686\\\\\n",
       "\tBryansk oblast & 0.2622151 & 0.2660432 & 0.2698848 & 0.2737394 & 0.2776064 & 0.2814853 & 0.2853756 & 0.2892766 & 0.2931879 & 0.2971088 & 0.3010389 & 0.3049776\\\\\n",
       "\tIvanovo oblast & 0.2347654 & 0.2384782 & 0.2422085 & 0.2459558 & 0.2497197 & 0.2534994 & 0.2572945 & 0.2611044 & 0.2649285 & 0.2687664 & 0.2726174 & 0.2764810\\\\\n",
       "\\end{tabular}\n"
      ],
      "text/markdown": [
       "\n",
       "| <!--/--> | 2004 | 2005 | 2006 | 2007 | 2008 | 2009 | 2010 | 2011 | 2012 | 2013 | 2014 | 2015 |\n",
       "|---|---|---|---|---|---|---|---|---|---|---|---|---|\n",
       "| Moscow | 0.9734184 | 0.9737008 | 0.9739803 | 0.9742569 | 0.9745305 | 0.9748014 | 0.9750694 | 0.9753346 | 0.9755970 | 0.9758567 | 0.9761137 | 0.9763680 |\n",
       "| Belgorod oblast | 0.5169623 | 0.5206678 | 0.5243593 | 0.5280366 | 0.5316995 | 0.5353478 | 0.5389812 | 0.5425996 | 0.5462027 | 0.5497903 | 0.5533623 | 0.5569185 |\n",
       "| Lipetsk oblast | 0.4992584 | 0.5030268 | 0.5067824 | 0.5105249 | 0.5142542 | 0.5179698 | 0.5216717 | 0.5253595 | 0.5290331 | 0.5326922 | 0.5363366 | 0.5399661 |\n",
       "| Moscow Oblast | 0.4354000 | 0.4393371 | 0.4432666 | 0.4471881 | 0.4511013 | 0.4550058 | 0.4589014 | 0.4627876 | 0.4666641 | 0.4705306 | 0.4743867 | 0.4782322 |\n",
       "| Yaroslavl oblast | 0.4189594 | 0.4229241 | 0.4268827 | 0.4308350 | 0.4347805 | 0.4387188 | 0.4426496 | 0.4465725 | 0.4504872 | 0.4543932 | 0.4582903 | 0.4621781 |\n",
       "| Kaluga oblast | 0.3704010 | 0.3744053 | 0.3784088 | 0.3824111 | 0.3864118 | 0.3904103 | 0.3944062 | 0.3983992 | 0.4023886 | 0.4063742 | 0.4103555 | 0.4143321 |\n",
       "| Kursk oblast | 0.3678718 | 0.3718763 | 0.3758804 | 0.3798836 | 0.3838853 | 0.3878853 | 0.3918829 | 0.3958778 | 0.3998695 | 0.4038576 | 0.4078417 | 0.4118213 |\n",
       "| Ryazan oblast | 0.3660839 | 0.3700885 | 0.3740929 | 0.3780965 | 0.3820989 | 0.3860998 | 0.3900985 | 0.3940947 | 0.3980879 | 0.4020777 | 0.4060636 | 0.4100453 |\n",
       "| Tula oblast | 0.3477912 | 0.3517909 | 0.3557926 | 0.3597958 | 0.3637999 | 0.3678045 | 0.3718092 | 0.3758134 | 0.3798167 | 0.3838186 | 0.3878187 | 0.3918165 |\n",
       "| Tver oblast | 0.3457381 | 0.3497366 | 0.3537374 | 0.3577399 | 0.3617436 | 0.3657481 | 0.3697528 | 0.3737573 | 0.3777611 | 0.3817638 | 0.3857649 | 0.3897639 |\n",
       "| Voronezh oblast | 0.3438211 | 0.3478184 | 0.3518182 | 0.3558199 | 0.3598231 | 0.3638273 | 0.3678320 | 0.3718367 | 0.3758409 | 0.3798442 | 0.3838461 | 0.3878462 |\n",
       "| Vladimir oblast | 0.3351803 | 0.3391706 | 0.3431645 | 0.3471614 | 0.3511609 | 0.3551623 | 0.3591654 | 0.3631695 | 0.3671741 | 0.3711789 | 0.3751833 | 0.3791868 |\n",
       "| Oryol Oblast | 0.3310916 | 0.3350778 | 0.3390681 | 0.3430619 | 0.3470588 | 0.3510582 | 0.3550597 | 0.3590627 | 0.3630668 | 0.3670715 | 0.3710762 | 0.3750807 |\n",
       "| Kostroma oblast | 0.3237979 | 0.3277753 | 0.3317578 | 0.3357447 | 0.3397357 | 0.3437301 | 0.3477274 | 0.3517273 | 0.3557291 | 0.3597323 | 0.3637366 | 0.3677413 |\n",
       "| Smolensk oblast | 0.3206830 | 0.3246562 | 0.3286348 | 0.3326183 | 0.3366061 | 0.3405979 | 0.3445930 | 0.3485909 | 0.3525913 | 0.3565934 | 0.3605970 | 0.3646014 |\n",
       "| Tambov oblast | 0.3161925 | 0.3201589 | 0.3241314 | 0.3281093 | 0.3320922 | 0.3360795 | 0.3400708 | 0.3440655 | 0.3480632 | 0.3520632 | 0.3560652 | 0.3600686 |\n",
       "| Bryansk oblast | 0.2622151 | 0.2660432 | 0.2698848 | 0.2737394 | 0.2776064 | 0.2814853 | 0.2853756 | 0.2892766 | 0.2931879 | 0.2971088 | 0.3010389 | 0.3049776 |\n",
       "| Ivanovo oblast | 0.2347654 | 0.2384782 | 0.2422085 | 0.2459558 | 0.2497197 | 0.2534994 | 0.2572945 | 0.2611044 | 0.2649285 | 0.2687664 | 0.2726174 | 0.2764810 |\n",
       "\n"
      ],
      "text/plain": [
       "                 2004      2005      2006      2007      2008      2009     \n",
       "Moscow           0.9734184 0.9737008 0.9739803 0.9742569 0.9745305 0.9748014\n",
       "Belgorod oblast  0.5169623 0.5206678 0.5243593 0.5280366 0.5316995 0.5353478\n",
       "Lipetsk oblast   0.4992584 0.5030268 0.5067824 0.5105249 0.5142542 0.5179698\n",
       "Moscow Oblast    0.4354000 0.4393371 0.4432666 0.4471881 0.4511013 0.4550058\n",
       "Yaroslavl oblast 0.4189594 0.4229241 0.4268827 0.4308350 0.4347805 0.4387188\n",
       "Kaluga oblast    0.3704010 0.3744053 0.3784088 0.3824111 0.3864118 0.3904103\n",
       "Kursk oblast     0.3678718 0.3718763 0.3758804 0.3798836 0.3838853 0.3878853\n",
       "Ryazan oblast    0.3660839 0.3700885 0.3740929 0.3780965 0.3820989 0.3860998\n",
       "Tula oblast      0.3477912 0.3517909 0.3557926 0.3597958 0.3637999 0.3678045\n",
       "Tver oblast      0.3457381 0.3497366 0.3537374 0.3577399 0.3617436 0.3657481\n",
       "Voronezh oblast  0.3438211 0.3478184 0.3518182 0.3558199 0.3598231 0.3638273\n",
       "Vladimir oblast  0.3351803 0.3391706 0.3431645 0.3471614 0.3511609 0.3551623\n",
       "Oryol Oblast     0.3310916 0.3350778 0.3390681 0.3430619 0.3470588 0.3510582\n",
       "Kostroma oblast  0.3237979 0.3277753 0.3317578 0.3357447 0.3397357 0.3437301\n",
       "Smolensk oblast  0.3206830 0.3246562 0.3286348 0.3326183 0.3366061 0.3405979\n",
       "Tambov oblast    0.3161925 0.3201589 0.3241314 0.3281093 0.3320922 0.3360795\n",
       "Bryansk oblast   0.2622151 0.2660432 0.2698848 0.2737394 0.2776064 0.2814853\n",
       "Ivanovo oblast   0.2347654 0.2384782 0.2422085 0.2459558 0.2497197 0.2534994\n",
       "                 2010      2011      2012      2013      2014      2015     \n",
       "Moscow           0.9750694 0.9753346 0.9755970 0.9758567 0.9761137 0.9763680\n",
       "Belgorod oblast  0.5389812 0.5425996 0.5462027 0.5497903 0.5533623 0.5569185\n",
       "Lipetsk oblast   0.5216717 0.5253595 0.5290331 0.5326922 0.5363366 0.5399661\n",
       "Moscow Oblast    0.4589014 0.4627876 0.4666641 0.4705306 0.4743867 0.4782322\n",
       "Yaroslavl oblast 0.4426496 0.4465725 0.4504872 0.4543932 0.4582903 0.4621781\n",
       "Kaluga oblast    0.3944062 0.3983992 0.4023886 0.4063742 0.4103555 0.4143321\n",
       "Kursk oblast     0.3918829 0.3958778 0.3998695 0.4038576 0.4078417 0.4118213\n",
       "Ryazan oblast    0.3900985 0.3940947 0.3980879 0.4020777 0.4060636 0.4100453\n",
       "Tula oblast      0.3718092 0.3758134 0.3798167 0.3838186 0.3878187 0.3918165\n",
       "Tver oblast      0.3697528 0.3737573 0.3777611 0.3817638 0.3857649 0.3897639\n",
       "Voronezh oblast  0.3678320 0.3718367 0.3758409 0.3798442 0.3838461 0.3878462\n",
       "Vladimir oblast  0.3591654 0.3631695 0.3671741 0.3711789 0.3751833 0.3791868\n",
       "Oryol Oblast     0.3550597 0.3590627 0.3630668 0.3670715 0.3710762 0.3750807\n",
       "Kostroma oblast  0.3477274 0.3517273 0.3557291 0.3597323 0.3637366 0.3677413\n",
       "Smolensk oblast  0.3445930 0.3485909 0.3525913 0.3565934 0.3605970 0.3646014\n",
       "Tambov oblast    0.3400708 0.3440655 0.3480632 0.3520632 0.3560652 0.3600686\n",
       "Bryansk oblast   0.2853756 0.2892766 0.2931879 0.2971088 0.3010389 0.3049776\n",
       "Ivanovo oblast   0.2572945 0.2611044 0.2649285 0.2687664 0.2726174 0.2764810"
      ]
     },
     "metadata": {},
     "output_type": "display_data"
    }
   ],
   "source": [
    "eff  <- data.frame(efficiencies(time_var_no_change))\n",
    "colnames(eff) <- as.list(unique(df['TIME']))$TIME\n",
    "eff  <- eff[order(-eff['2015']),]\n",
    "eff\n"
   ]
  },
  {
   "cell_type": "code",
   "execution_count": 35,
   "metadata": {},
   "outputs": [
    {
     "data": {
      "image/png": "[encoded data removed]",
      "text/plain": [
       "plot without title"
      ]
     },
     "metadata": {},
     "output_type": "display_data"
    }
   ],
   "source": [
    "eff <- as.tibble(t(eff))\n",
    "eff$TIME <- as.list(unique(df['TIME']))$TIME\n",
    "eff_melt <- melt(eff ,  id.vars = 'TIME', variable.name = 'region')\n",
    "ggplot(eff_melt, aes(TIME,value)) + geom_line(aes(colour = region))"
   ]
  },
  {
   "cell_type": "markdown",
   "metadata": {},
   "source": [
    "Not surprisingly, Moscow is the most efficient region, but interestingly enough, it appears that there are some clusters of  regions grouped by their efficiencies, which may deserve a further investigation."
   ]
  },
  {
   "cell_type": "markdown",
   "metadata": {},
   "source": [
    "Let's summarise all the estimated models."
   ]
  },
  {
   "cell_type": "code",
   "execution_count": 23,
   "metadata": {},
   "outputs": [],
   "source": [
    "extract  <- function(model) {\n",
    "      mod <- broom:::tidy.lm(model)\n",
    "      coef <- mod$estimate\n",
    "      coef.names <- as.character(mod$term)\n",
    "      se <- mod$std.error\n",
    "      pvalues <- mod$p.value\n",
    "      lik <- list(model$mleLogl)\n",
    "      result <- createTexreg(coef.names = coef.names,\n",
    "                                        coef = coef,\n",
    "                                        se = se,\n",
    "                                        gof.names = 'logLik',\n",
    "                                        gof = model$mleLogl,\n",
    "                                        pvalues = pvalues)\n",
    "      return(result)\n",
    "\n",
    "}"
   ]
  },
  {
   "cell_type": "code",
   "execution_count": 35,
   "metadata": {},
   "outputs": [],
   "source": [
    "models <- list(time_inv_no_change,\n",
    "            time_inv_no_change_tn,\n",
    "            time_inv,\n",
    "            time_var_no_change,\n",
    "            time_var)\n",
    "models_extracted <- lapply(models, extract)\n"
   ]
  },
  {
   "cell_type": "code",
   "execution_count": 39,
   "metadata": {},
   "outputs": [
    {
     "data": {
      "text/html": [
       "\n",
       "<!DOCTYPE HTML PUBLIC \"-//W3C//DTD HTML 4.01 Transitional//EN\" \"http://www.w3.org/TR/html4/loose.dtd\">\n",
       "<table cellspacing=\"0\" align=\"center\" style=\"border: none;\">\n",
       "<tr>\n",
       "<th style=\"text-align: left; border-top: 2px solid black; border-bottom: 1px solid black; padding-right: 12px;\"><b></b></th>\n",
       "<th style=\"text-align: left; border-top: 2px solid black; border-bottom: 1px solid black; padding-right: 12px;\"><b>Model 1</b></th>\n",
       "<th style=\"text-align: left; border-top: 2px solid black; border-bottom: 1px solid black; padding-right: 12px;\"><b>Model 2</b></th>\n",
       "<th style=\"text-align: left; border-top: 2px solid black; border-bottom: 1px solid black; padding-right: 12px;\"><b>Model 3</b></th>\n",
       "<th style=\"text-align: left; border-top: 2px solid black; border-bottom: 1px solid black; padding-right: 12px;\"><b>Model 4</b></th>\n",
       "<th style=\"text-align: left; border-top: 2px solid black; border-bottom: 1px solid black; padding-right: 12px;\"><b>Model 5</b></th>\n",
       "</tr>\n",
       "<tr>\n",
       "<td style=\"padding-right: 12px; border: none;\">(Intercept)</td>\n",
       "<td style=\"padding-right: 12px; border: none;\">4.21 (0.71)<sup style=\"vertical-align: 0px;\">***</sup></td>\n",
       "<td style=\"padding-right: 12px; border: none;\">3.61 (1.03)<sup style=\"vertical-align: 0px;\">***</sup></td>\n",
       "<td style=\"padding-right: 12px; border: none;\">6.21 (1.19)<sup style=\"vertical-align: 0px;\">***</sup></td>\n",
       "<td style=\"padding-right: 12px; border: none;\">6.65 (1.17)<sup style=\"vertical-align: 0px;\">***</sup></td>\n",
       "<td style=\"padding-right: 12px; border: none;\">6.79 (1.22)<sup style=\"vertical-align: 0px;\">***</sup></td>\n",
       "</tr>\n",
       "<tr>\n",
       "<td style=\"padding-right: 12px; border: none;\">log(ER)</td>\n",
       "<td style=\"padding-right: 12px; border: none;\">0.68 (0.20)<sup style=\"vertical-align: 0px;\">***</sup></td>\n",
       "<td style=\"padding-right: 12px; border: none;\">0.65 (0.28)<sup style=\"vertical-align: 0px;\">**</sup></td>\n",
       "<td style=\"padding-right: 12px; border: none;\">0.46 (0.22)<sup style=\"vertical-align: 0px;\">**</sup></td>\n",
       "<td style=\"padding-right: 12px; border: none;\">0.47 (0.21)<sup style=\"vertical-align: 0px;\">**</sup></td>\n",
       "<td style=\"padding-right: 12px; border: none;\">0.45 (0.23)<sup style=\"vertical-align: 0px;\">**</sup></td>\n",
       "</tr>\n",
       "<tr>\n",
       "<td style=\"padding-right: 12px; border: none;\">log(INV)</td>\n",
       "<td style=\"padding-right: 12px; border: none;\">-0.00 (0.03)</td>\n",
       "<td style=\"padding-right: 12px; border: none;\">-0.08 (0.03)<sup style=\"vertical-align: 0px;\">**</sup></td>\n",
       "<td style=\"padding-right: 12px; border: none;\">0.02 (0.03)</td>\n",
       "<td style=\"padding-right: 12px; border: none;\">0.02 (0.03)</td>\n",
       "<td style=\"padding-right: 12px; border: none;\">0.02 (0.03)</td>\n",
       "</tr>\n",
       "<tr>\n",
       "<td style=\"padding-right: 12px; border: none;\">log(INC)</td>\n",
       "<td style=\"padding-right: 12px; border: none;\">0.60 (0.03)<sup style=\"vertical-align: 0px;\">***</sup></td>\n",
       "<td style=\"padding-right: 12px; border: none;\">0.68 (0.03)<sup style=\"vertical-align: 0px;\">***</sup></td>\n",
       "<td style=\"padding-right: 12px; border: none;\">0.50 (0.06)<sup style=\"vertical-align: 0px;\">***</sup></td>\n",
       "<td style=\"padding-right: 12px; border: none;\">0.45 (0.07)<sup style=\"vertical-align: 0px;\">***</sup></td>\n",
       "<td style=\"padding-right: 12px; border: none;\">0.45 (0.06)<sup style=\"vertical-align: 0px;\">***</sup></td>\n",
       "</tr>\n",
       "<tr>\n",
       "<td style=\"padding-right: 12px; border: none;\">sigmaSq</td>\n",
       "<td style=\"padding-right: 12px; border: none;\">0.58 (0.20)<sup style=\"vertical-align: 0px;\">***</sup></td>\n",
       "<td style=\"padding-right: 12px; border: none;\">0.05 (0.01)<sup style=\"vertical-align: 0px;\">***</sup></td>\n",
       "<td style=\"padding-right: 12px; border: none;\">0.84 (0.32)<sup style=\"vertical-align: 0px;\">***</sup></td>\n",
       "<td style=\"padding-right: 12px; border: none;\">0.84 (0.31)<sup style=\"vertical-align: 0px;\">***</sup></td>\n",
       "<td style=\"padding-right: 12px; border: none;\">0.86 (0.31)<sup style=\"vertical-align: 0px;\">***</sup></td>\n",
       "</tr>\n",
       "<tr>\n",
       "<td style=\"padding-right: 12px; border: none;\">gamma</td>\n",
       "<td style=\"padding-right: 12px; border: none;\">0.99 (0.00)<sup style=\"vertical-align: 0px;\">***</sup></td>\n",
       "<td style=\"padding-right: 12px; border: none;\">0.85 (0.03)<sup style=\"vertical-align: 0px;\">***</sup></td>\n",
       "<td style=\"padding-right: 12px; border: none;\">0.99 (0.00)<sup style=\"vertical-align: 0px;\">***</sup></td>\n",
       "<td style=\"padding-right: 12px; border: none;\">0.99 (0.00)<sup style=\"vertical-align: 0px;\">***</sup></td>\n",
       "<td style=\"padding-right: 12px; border: none;\">0.99 (0.00)<sup style=\"vertical-align: 0px;\">***</sup></td>\n",
       "</tr>\n",
       "<tr>\n",
       "<td style=\"padding-right: 12px; border: none;\">mu</td>\n",
       "<td style=\"padding-right: 12px; border: none;\"></td>\n",
       "<td style=\"padding-right: 12px; border: none;\">0.41 (0.08)<sup style=\"vertical-align: 0px;\">***</sup></td>\n",
       "<td style=\"padding-right: 12px; border: none;\"></td>\n",
       "<td style=\"padding-right: 12px; border: none;\"></td>\n",
       "<td style=\"padding-right: 12px; border: none;\"></td>\n",
       "</tr>\n",
       "<tr>\n",
       "<td style=\"padding-right: 12px; border: none;\">TIME_ADJ</td>\n",
       "<td style=\"padding-right: 12px; border: none;\"></td>\n",
       "<td style=\"padding-right: 12px; border: none;\"></td>\n",
       "<td style=\"padding-right: 12px; border: none;\">0.01 (0.00)<sup style=\"vertical-align: 0px;\">**</sup></td>\n",
       "<td style=\"padding-right: 12px; border: none;\"></td>\n",
       "<td style=\"padding-right: 12px; border: none;\">0.00 (0.01)</td>\n",
       "</tr>\n",
       "<tr>\n",
       "<td style=\"padding-right: 12px; border: none;\">time</td>\n",
       "<td style=\"padding-right: 12px; border: none;\"></td>\n",
       "<td style=\"padding-right: 12px; border: none;\"></td>\n",
       "<td style=\"padding-right: 12px; border: none;\"></td>\n",
       "<td style=\"padding-right: 12px; border: none;\">0.01 (0.00)<sup style=\"vertical-align: 0px;\">***</sup></td>\n",
       "<td style=\"padding-right: 12px; border: none;\">0.01 (0.01)<sup style=\"vertical-align: 0px;\">*</sup></td>\n",
       "</tr>\n",
       "<tr>\n",
       "<td style=\"border-top: 1px solid black;\">logLik</td>\n",
       "<td style=\"border-top: 1px solid black;\">187.69</td>\n",
       "<td style=\"border-top: 1px solid black;\">185.18</td>\n",
       "<td style=\"border-top: 1px solid black;\">189.41</td>\n",
       "<td style=\"border-top: 1px solid black;\">190.55</td>\n",
       "<td style=\"border-top: 1px solid black;\">190.60</td>\n",
       "</tr>\n",
       "<tr>\n",
       "<td style=\"padding-right: 12px; border: none;\" colspan=\"7\"><span style=\"font-size:0.8em\"><sup style=\"vertical-align: 0px;\">***</sup>p &lt; 0.01, <sup style=\"vertical-align: 0px;\">**</sup>p &lt; 0.05, <sup style=\"vertical-align: 0px;\">*</sup>p &lt; 0.1</span></td>\n",
       "</tr>\n",
       "</table>\n"
      ]
     },
     "metadata": {},
     "output_type": "display_data"
    }
   ],
   "source": [
    "display_html(htmlreg(models_extracted, single.row = TRUE, stars = c(0.01, 0.05, 0.1), caption=\"\"))"
   ]
  }
 ],
 "metadata": {
  "kernelspec": {
   "display_name": "R",
   "language": "R",
   "name": "ir"
  },
  "language_info": {
   "codemirror_mode": "r",
   "file_extension": ".r",
   "mimetype": "text/x-r-source",
   "name": "R",
   "pygments_lexer": "r",
   "version": "3.6.0"
  }
 },
 "nbformat": 4,
 "nbformat_minor": 4
}
